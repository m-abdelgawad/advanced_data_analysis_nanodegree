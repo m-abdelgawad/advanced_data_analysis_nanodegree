{
 "cells": [
  {
   "cell_type": "markdown",
   "metadata": {},
   "source": [
    "# Simulating Coin Flips"
   ]
  },
  {
   "cell_type": "markdown",
   "metadata": {},
   "source": [
    "NumPy has a module for random sampling, that makes it really easy for us to simulate random events like coin flips and Python. \n",
    "\n",
    "We're going to start with a simple example, simulating a single coin flip. \n",
    "\n",
    "For this, we'll use a function called randint. This generates however many random integers, we specify between a lower bound inclusive and upper bound exclusive. We can use these integers to represent the outcomes of our events, like coin flips.\n",
    "\n",
    "Note that, we will represent Head with 0, and Tail with 1:\n",
    "\n",
    "Head --> 0\n",
    "\n",
    "Tail --> 1"
   ]
  },
  {
   "cell_type": "code",
   "execution_count": 1,
   "metadata": {},
   "outputs": [],
   "source": [
    "import numpy as np"
   ]
  },
  {
   "cell_type": "code",
   "execution_count": 2,
   "metadata": {},
   "outputs": [
    {
     "data": {
      "text/plain": [
       "0"
      ]
     },
     "execution_count": 2,
     "metadata": {},
     "output_type": "execute_result"
    }
   ],
   "source": [
    "# We call randint from NumPy's random sampling module like this.\n",
    "# Let's use zero to represent heads and one to represent tails.\n",
    "# Let's make this function randomly produce zero or one.\n",
    "# The lower bound would be zero and the highest would be two, because it's exclusive.\n",
    "# Since the lower bound is zero,\n",
    "# this is actually the default.\n",
    "# We don't need to include it.\n",
    "# If we run the cell again and again,\n",
    "# we'll keep getting a random outcome of zero or one \n",
    "np.random.randint(2)"
   ]
  },
  {
   "cell_type": "code",
   "execution_count": 3,
   "metadata": {},
   "outputs": [
    {
     "data": {
      "text/plain": [
       "array([0, 1, 1, ..., 1, 0, 1])"
      ]
     },
     "execution_count": 3,
     "metadata": {},
     "output_type": "execute_result"
    }
   ],
   "source": [
    "# or we can specify a size to just give us more events.\n",
    "# Now, we have the results of 10,000 random coin flips.\n",
    "np.random.randint(2, size = 10000)"
   ]
  },
  {
   "cell_type": "code",
   "execution_count": 4,
   "metadata": {},
   "outputs": [
    {
     "data": {
      "text/plain": [
       "0.5101"
      ]
     },
     "execution_count": 4,
     "metadata": {},
     "output_type": "execute_result"
    }
   ],
   "source": [
    "# The average of these outcomes produced here should be very close to 0.5,\n",
    "# since right now there's an equal probability of getting a zero or a one.\n",
    "np.random.randint(2, size=10000).mean()"
   ]
  },
  {
   "cell_type": "code",
   "execution_count": 5,
   "metadata": {},
   "outputs": [
    {
     "data": {
      "text/plain": [
       "array([1, 0, 0, ..., 1, 0, 1])"
      ]
     },
     "execution_count": 5,
     "metadata": {},
     "output_type": "execute_result"
    }
   ],
   "source": [
    "# But if we want to flip a biased coin,\n",
    "# that had a higher probability of landing on heads,\n",
    "# There's actually another function for this called random.choice.\n",
    "# This function works a little differently.\n",
    "# It randomly chooses a number of values from an array that you provide and you\n",
    "# can also give it a set of probabilities for each value in that array.\n",
    "# Let's call random.choice and give it the array of the possible outcomes zero and one.\n",
    "# If we don't specify probabilities,\n",
    "# it gives us each value and an equal probability by default.\n",
    "np.random.choice([0, 1], size = 10000)"
   ]
  },
  {
   "cell_type": "code",
   "execution_count": 6,
   "metadata": {},
   "outputs": [
    {
     "data": {
      "text/plain": [
       "0.4981"
      ]
     },
     "execution_count": 6,
     "metadata": {},
     "output_type": "execute_result"
    }
   ],
   "source": [
    "# We can run this similar to the above example in this way.\n",
    "# So the average is very close to 0.5 Again.\n",
    "np.random.choice([0, 1], size = 10000).mean()"
   ]
  },
  {
   "cell_type": "code",
   "execution_count": 7,
   "metadata": {},
   "outputs": [
    {
     "data": {
      "text/plain": [
       "array([0, 0, 1, ..., 1, 0, 0])"
      ]
     },
     "execution_count": 7,
     "metadata": {},
     "output_type": "execute_result"
    }
   ],
   "source": [
    "# To make this a biased coin,\n",
    "# we can specify the parameter p with an array of probabilities.\n",
    "# Say 0.8 for heads and 0-2 for tails.\n",
    "np.random.choice([0, 1], size = 10000, p = [0.8, 0.2])"
   ]
  },
  {
   "cell_type": "code",
   "execution_count": 8,
   "metadata": {},
   "outputs": [
    {
     "data": {
      "text/plain": [
       "0.2008"
      ]
     },
     "execution_count": 8,
     "metadata": {},
     "output_type": "execute_result"
    }
   ],
   "source": [
    "# Now, you can see that the mean is close to 0.2 which makes\n",
    "# sense, because the zero or heads should be chosen 80% of the time.\n",
    "np.random.choice([0, 1], size = 10000, p = [0.8, 0.2]).mean()"
   ]
  },
  {
   "cell_type": "markdown",
   "metadata": {},
   "source": [
    "You probably noticed that the mean values we get from\n",
    "these outcomes don't always reflect the true probabilities perfectly.\n",
    "\n",
    "However, they do tend to reflect the true probability\n",
    "more closely as we increase the number of flips.\n"
   ]
  }
 ],
 "metadata": {
  "kernelspec": {
   "display_name": "Python 3",
   "language": "python",
   "name": "python3"
  },
  "language_info": {
   "codemirror_mode": {
    "name": "ipython",
    "version": 3
   },
   "file_extension": ".py",
   "mimetype": "text/x-python",
   "name": "python",
   "nbconvert_exporter": "python",
   "pygments_lexer": "ipython3",
   "version": "3.8.5"
  }
 },
 "nbformat": 4,
 "nbformat_minor": 4
}
