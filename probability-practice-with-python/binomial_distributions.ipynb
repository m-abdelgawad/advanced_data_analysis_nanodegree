{
 "cells": [
  {
   "cell_type": "markdown",
   "metadata": {},
   "source": [
    "# Binomial Distributions\n",
    "In this project, we will use NumPy to create simulations and compute proportions for the following outcomes.\n",
    "\n",
    "1. A fair coin flip produces heads\n",
    "2. Five fair coin flips produce exactly one head\n",
    "3. Ten fair coin flips produce exactly four heads\n",
    "4. Five biased coin flips with P(H) = 0.8 produce exactly five heads\n",
    "5. Ten biased coin flips with P(H) = 0.15 produce at least three heads"
   ]
  },
  {
   "cell_type": "code",
   "execution_count": 1,
   "metadata": {},
   "outputs": [],
   "source": [
    "# import numpy\n",
    "import numpy as np"
   ]
  },
  {
   "cell_type": "markdown",
   "metadata": {},
   "source": [
    "### 1. A fair coin flip produces heads"
   ]
  },
  {
   "cell_type": "code",
   "execution_count": 2,
   "metadata": {},
   "outputs": [
    {
     "name": "stdout",
     "output_type": "stream",
     "text": [
      "[0 0 0 ... 0 0 1]\n"
     ]
    }
   ],
   "source": [
    "# simulate 1 million tests of one fair coin flip\n",
    "# The output of these tests are the # successes, or # heads\n",
    "# The following produces 1 flip with probability of success = 0.5\n",
    "# And repeat that test 1 million times.\n",
    "tests = np.random.binomial(1, 0.5, int(1e6))\n",
    "\n",
    "# The output is the number of heads in each test of the million\n",
    "print(tests)"
   ]
  },
  {
   "cell_type": "code",
   "execution_count": 3,
   "metadata": {},
   "outputs": [
    {
     "data": {
      "text/plain": [
       "array([False, False, False, ..., False, False,  True])"
      ]
     },
     "execution_count": 3,
     "metadata": {},
     "output_type": "execute_result"
    }
   ],
   "source": [
    "# tests that produced 1 heads\n",
    "# (tests == 1) returns array([False, False, False, ...,  True, False, False])\n",
    "tests == 1"
   ]
  },
  {
   "cell_type": "code",
   "execution_count": 4,
   "metadata": {},
   "outputs": [
    {
     "data": {
      "text/plain": [
       "0.500021"
      ]
     },
     "execution_count": 4,
     "metadata": {},
     "output_type": "execute_result"
    }
   ],
   "source": [
    "# so calculating the mean of that array, calculate the proportion of the True to False elements\n",
    "(tests == 1).mean()"
   ]
  },
  {
   "cell_type": "markdown",
   "metadata": {},
   "source": [
    "### 2. Five fair coin flips produce exactly one head"
   ]
  },
  {
   "cell_type": "code",
   "execution_count": 5,
   "metadata": {},
   "outputs": [
    {
     "name": "stdout",
     "output_type": "stream",
     "text": [
      "[2 4 0 ... 4 1 2]\n"
     ]
    }
   ],
   "source": [
    "# simulate 1 million tests of five fair coin flips\n",
    "tests = np.random.binomial(n = 5, p = 0.5, size = int(1e6))\n",
    "print(tests)"
   ]
  },
  {
   "cell_type": "code",
   "execution_count": 6,
   "metadata": {},
   "outputs": [
    {
     "data": {
      "text/plain": [
       "0.156208"
      ]
     },
     "execution_count": 6,
     "metadata": {},
     "output_type": "execute_result"
    }
   ],
   "source": [
    "# proportion of tests that produced 1 head\n",
    "(tests == 1).mean()"
   ]
  },
  {
   "cell_type": "markdown",
   "metadata": {},
   "source": [
    "### 3. Ten fair coin flips produce exactly four heads"
   ]
  },
  {
   "cell_type": "code",
   "execution_count": 7,
   "metadata": {},
   "outputs": [
    {
     "name": "stdout",
     "output_type": "stream",
     "text": [
      "[5 5 4 ... 7 2 4]\n"
     ]
    }
   ],
   "source": [
    "# simulate 1 million tests of ten fair coin flips\n",
    "tests = np.random.binomial(n = 10, p = 0.5, size = int(1e6))\n",
    "print(tests)"
   ]
  },
  {
   "cell_type": "code",
   "execution_count": 8,
   "metadata": {},
   "outputs": [
    {
     "data": {
      "text/plain": [
       "array([False, False,  True, ..., False, False,  True])"
      ]
     },
     "execution_count": 8,
     "metadata": {},
     "output_type": "execute_result"
    }
   ],
   "source": [
    "# tests that produced 4 heads\n",
    "tests == 4"
   ]
  },
  {
   "cell_type": "code",
   "execution_count": 9,
   "metadata": {},
   "outputs": [
    {
     "data": {
      "text/plain": [
       "0.20458"
      ]
     },
     "execution_count": 9,
     "metadata": {},
     "output_type": "execute_result"
    }
   ],
   "source": [
    "# proportion of tests that produced 4 heads\n",
    "(tests == 4).mean()"
   ]
  },
  {
   "cell_type": "markdown",
   "metadata": {},
   "source": [
    "### 4. Five biased coin flips with P(H) = 0.8 produce exactly five heads"
   ]
  },
  {
   "cell_type": "code",
   "execution_count": 10,
   "metadata": {},
   "outputs": [
    {
     "name": "stdout",
     "output_type": "stream",
     "text": [
      "[5 5 5 ... 3 4 5]\n"
     ]
    }
   ],
   "source": [
    "# simulate 1 million tests of five biased coin flips\n",
    "tests = np.random.binomial(n = 5, p = 0.8, size = int(1e6))\n",
    "print(tests)"
   ]
  },
  {
   "cell_type": "code",
   "execution_count": 11,
   "metadata": {},
   "outputs": [
    {
     "data": {
      "text/plain": [
       "0.327502"
      ]
     },
     "execution_count": 11,
     "metadata": {},
     "output_type": "execute_result"
    }
   ],
   "source": [
    "# proportion of tests that produced 5 heads\n",
    "(tests == 5).mean()"
   ]
  },
  {
   "cell_type": "markdown",
   "metadata": {},
   "source": [
    "### 5. Ten biased coin flips with P(H) = 0.15 produce at least 3 heads"
   ]
  },
  {
   "cell_type": "code",
   "execution_count": 12,
   "metadata": {},
   "outputs": [
    {
     "name": "stdout",
     "output_type": "stream",
     "text": [
      "[1 1 2 ... 0 3 1]\n"
     ]
    }
   ],
   "source": [
    "# simulate 1 million tests of ten biased coin flips\n",
    "tests = np.random.binomial(n= 10, p = 0.15, size = int(1e6))\n",
    "print(tests)"
   ]
  },
  {
   "cell_type": "code",
   "execution_count": 13,
   "metadata": {},
   "outputs": [
    {
     "data": {
      "text/plain": [
       "array([False, False, False, ..., False,  True, False])"
      ]
     },
     "execution_count": 13,
     "metadata": {},
     "output_type": "execute_result"
    }
   ],
   "source": [
    "# tests that produced at least 3 heads\n",
    "tests >= 3"
   ]
  },
  {
   "cell_type": "code",
   "execution_count": 15,
   "metadata": {},
   "outputs": [
    {
     "data": {
      "text/plain": [
       "0.180203"
      ]
     },
     "execution_count": 15,
     "metadata": {},
     "output_type": "execute_result"
    }
   ],
   "source": [
    "# proportion of tests that produced at least 3 heads\n",
    "(tests >= 3).mean()"
   ]
  }
 ],
 "metadata": {
  "kernelspec": {
   "display_name": "Python 3",
   "language": "python",
   "name": "python3"
  },
  "language_info": {
   "codemirror_mode": {
    "name": "ipython",
    "version": 3
   },
   "file_extension": ".py",
   "mimetype": "text/x-python",
   "name": "python",
   "nbconvert_exporter": "python",
   "pygments_lexer": "ipython3",
   "version": "3.8.5"
  }
 },
 "nbformat": 4,
 "nbformat_minor": 2
}
