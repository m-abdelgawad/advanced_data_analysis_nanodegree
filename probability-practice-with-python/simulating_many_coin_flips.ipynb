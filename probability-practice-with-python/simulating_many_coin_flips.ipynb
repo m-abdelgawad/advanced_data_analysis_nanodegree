{
 "cells": [
  {
   "cell_type": "markdown",
   "metadata": {
    "collapsed": true
   },
   "source": [
    "# Simulating Many Coin Flips"
   ]
  },
  {
   "cell_type": "markdown",
   "metadata": {},
   "source": [
    "We've been stimulating event outcomes by generating  \n",
    "random numbers with NumPy's random.randint and random.choice.\n",
    "\n",
    "However, there is a better function for  \n",
    "simulating large binomial experiments like coin flips.\n",
    "\n",
    "Here, we see NumPy's random.binomial function,  \n",
    "which simulates a number of events n,  \n",
    "which each have probability of success p.\n",
    "\n",
    "Success just represents one of the two outcomes of the event.  \n",
    "Really, either outcome could be the success."
   ]
  },
  {
   "cell_type": "code",
   "execution_count": 1,
   "metadata": {},
   "outputs": [],
   "source": [
    "import numpy as np"
   ]
  },
  {
   "cell_type": "markdown",
   "metadata": {},
   "source": [
    "For example, if our event is flipping a fair coin 10 times,  \n",
    "we could define success as the number of heads.  \n",
    "n would be the number of flips.  \n",
    "In this case, 10,  \n",
    "and p would be the probability of heads for each flip which is 0.5.  \n",
    "To try this out,  \n",
    "let's set n equal to 10 and p equal to 0.5.  "
   ]
  },
  {
   "cell_type": "code",
   "execution_count": 6,
   "metadata": {},
   "outputs": [
    {
     "data": {
      "text/plain": [
       "4"
      ]
     },
     "execution_count": 6,
     "metadata": {},
     "output_type": "execute_result"
    }
   ],
   "source": [
    "# This will flip the coin 10 times,\n",
    "# with a probability of 'success' = 0.5\n",
    "# and it returns the number of 'success outcomes\"\n",
    "# that occured in the 10 flips of the coin.\n",
    "np.random.binomial(n = 10, p = 0.5)"
   ]
  },
  {
   "cell_type": "markdown",
   "metadata": {},
   "source": [
    "Notice, this returns 1 integer instead of an array of 10 outcomes.  \n",
    "Since this function is only for binomial outcomes,  \n",
    "it can simplify the output by just returning the number of successes.  \n",
    "In this case, 4.  \n",
    "This is the number of heads."
   ]
  },
  {
   "cell_type": "markdown",
   "metadata": {},
   "source": [
    "Again, we can run the simulation many times.  \n",
    "Let's run this 20 times."
   ]
  },
  {
   "cell_type": "code",
   "execution_count": 7,
   "metadata": {},
   "outputs": [
    {
     "data": {
      "text/plain": [
       "array([2, 6, 5, 7, 4, 7, 7, 3, 6, 5, 5, 3, 5, 5, 3, 7, 6, 3, 6, 4])"
      ]
     },
     "execution_count": 7,
     "metadata": {},
     "output_type": "execute_result"
    }
   ],
   "source": [
    "# Again, this will flip a coin 10 times,\n",
    "# with the probability of 'success' = 0.5\n",
    "# and return the number of success that've\n",
    "# occured during the test.\n",
    "# What we add here, is the 'size' parameter,\n",
    "# which repeates the full test 20 times,\n",
    "# and returns an array, where each element\n",
    "# inside it, represents the number of 'success'\n",
    "# in one test of the 20 tests we just did.\n",
    "np.random.binomial(n = 10, p = 0.5, size = 20)"
   ]
  },
  {
   "cell_type": "markdown",
   "metadata": {},
   "source": [
    "Each number in this array represents the number of  \n",
    "heads that resulted from each test of 10 coin flips.\n",
    "\n",
    "for 20 different flippings of the coin.  \n",
    "Let's find the mean number of heads for these tests.  \n",
    "Since this is a fair coin,  \n",
    "we would expect this mean to be close to 5.  "
   ]
  },
  {
   "cell_type": "code",
   "execution_count": 8,
   "metadata": {},
   "outputs": [
    {
     "data": {
      "text/plain": [
       "4.95"
      ]
     },
     "execution_count": 8,
     "metadata": {},
     "output_type": "execute_result"
    }
   ],
   "source": [
    "np.random.binomial(n = 10, p = 0.5, size = 20).mean()"
   ]
  },
  {
   "cell_type": "markdown",
   "metadata": {},
   "source": [
    "You can see that this is a little bit of a ways away,  \n",
    "probably because we only ran 20 tests.  \n",
    "Let's see what happens if we increase the number of tests.\n",
    "\n",
    "Since these events are random,  \n",
    "it's not guaranteed that each simulation will perfectly average five heads.  \n",
    "However, as this number of tests increase,  \n",
    "the simulation more closely reflects the fairness of the coin.  "
   ]
  },
  {
   "cell_type": "code",
   "execution_count": 9,
   "metadata": {},
   "outputs": [
    {
     "data": {
      "text/plain": [
       "5.0138"
      ]
     },
     "execution_count": 9,
     "metadata": {},
     "output_type": "execute_result"
    }
   ],
   "source": [
    "np.random.binomial(n = 10, p = 0.5, size = 10000).mean()"
   ]
  },
  {
   "cell_type": "markdown",
   "metadata": {},
   "source": [
    "With 10,000 tests, the mean is much closer to five heads."
   ]
  },
  {
   "cell_type": "markdown",
   "metadata": {},
   "source": [
    "Let's use matplotlib to plot a histogram of the outcomes in this simulation.  "
   ]
  },
  {
   "cell_type": "code",
   "execution_count": 11,
   "metadata": {},
   "outputs": [],
   "source": [
    "import matplotlib.pyplot as plt\n",
    "%matplotlib inline"
   ]
  },
  {
   "cell_type": "code",
   "execution_count": 13,
   "metadata": {},
   "outputs": [
    {
     "data": {
      "image/png": "[encoded data removed]",
      "text/plain": [
       "<Figure size 432x288 with 1 Axes>"
      ]
     },
     "metadata": {
      "needs_background": "light"
     },
     "output_type": "display_data"
    }
   ],
   "source": [
    "plt.hist(np.random.binomial(n = 10, p = 0.5, size = 10000));"
   ]
  },
  {
   "cell_type": "markdown",
   "metadata": {},
   "source": [
    "As expected, the distribution is centered around five heads."
   ]
  },
  {
   "cell_type": "code",
   "execution_count": 14,
   "metadata": {},
   "outputs": [
    {
     "data": {
      "image/png": "[encoded data removed]",
      "text/plain": [
       "<Figure size 432x288 with 1 Axes>"
      ]
     },
     "metadata": {
      "needs_background": "light"
     },
     "output_type": "display_data"
    }
   ],
   "source": [
    "# gets more narrow as number of flips increase per test\n",
    "plt.hist(np.random.binomial(100, 0.5, 1000000));"
   ]
  }
 ],
 "metadata": {
  "kernelspec": {
   "display_name": "Python 3",
   "language": "python",
   "name": "python3"
  },
  "language_info": {
   "codemirror_mode": {
    "name": "ipython",
    "version": 3
   },
   "file_extension": ".py",
   "mimetype": "text/x-python",
   "name": "python",
   "nbconvert_exporter": "python",
   "pygments_lexer": "ipython3",
   "version": "3.8.5"
  }
 },
 "nbformat": 4,
 "nbformat_minor": 2
}
