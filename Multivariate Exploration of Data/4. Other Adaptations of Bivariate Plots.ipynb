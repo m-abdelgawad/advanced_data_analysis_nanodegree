{
 "cells": [
  {
   "cell_type": "markdown",
   "metadata": {},
   "source": [
    "# Other Adaptations of Bivariate Plots\n",
    "You also saw one other way of expanding univariate plots into bivariate plots in the previous lesson: substituting count on a bar chart or histogram for the mean, median, or some other statistic of a second variable. This adaptation can also be done for bivariate plots like the heat map, clustered bar chart, and line plot, to allow them to depict multivariate relationships.\n",
    "\n",
    "If we want to depict the mean of a third variable in a 2-d histogram, we need to change the weights of points in the hist2d function similar to how we changed the weights in the 1-d histogram."
   ]
  },
  {
   "cell_type": "code",
   "execution_count": null,
   "metadata": {},
   "outputs": [],
   "source": [
    "xbin_edges = np.arange(0.25, df['num_var1'].max()+0.5, 0.5)\n",
    "ybin_edges = np.arange(7,    df['num_var2'].max()+0.5, 0.5)\n",
    "\n",
    "# count number of points in each bin\n",
    "xbin_idxs = pd.cut(df['num_var1'], xbin_edges, right = False,\n",
    "                    include_lowest = True, labels = False).astype(int)\n",
    "ybin_idxs = pd.cut(df['num_var2'], ybin_edges, right = False,\n",
    "                    include_lowest = True, labels = False).astype(int)\n",
    "\n",
    "pts_per_bin = df.groupby([xbin_idxs, ybin_idxs]).size()\n",
    "pts_per_bin = pts_per_bin.reset_index()\n",
    "pts_per_bin = pts_per_bin.pivot(index = 'num_var1', columns = 'num_var2').values\n",
    "\n",
    "z_wts = df['num_var3'] / pts_per_bin[xbin_idxs, ybin_idxs]\n",
    "\n",
    "# plot the data using the calculated weights\n",
    "plt.hist2d(data = df, x = 'num_var1', y = 'num_var2', weights = z_wts,\n",
    "           bins = [xbin_edges, ybin_edges], cmap = 'viridis_r', cmin = 0.5);\n",
    "plt.xlabel('num_var1')\n",
    "plt.ylabel('num_var2');\n",
    "plt.colorbar(label = 'mean(num_var3)');"
   ]
  },
  {
   "cell_type": "markdown",
   "metadata": {},
   "source": [
    "![title](img/l5-c06-adaptations1.png)"
   ]
  },
  {
   "cell_type": "markdown",
   "metadata": {},
   "source": [
    "Considering how few data points there are in the example, and how cleanly the third variable is distributed, the adapted heat map is a bit excessive in terms of work. The low level of point overlap observed earlier means that the scatterplot with color or size encoding was sufficient for depicting the data. You'll be more likely to use the heat map if there is a lot of data to be aggregated.\n",
    "\n",
    "The code for the 2-d bar chart doesn't actually change much. The actual heatmap call is still the same, only the aggregation of values changes. Instead of taking size after the groupby operation, we compute the mean across dataframe columns and isolate the column of interest."
   ]
  },
  {
   "cell_type": "code",
   "execution_count": null,
   "metadata": {},
   "outputs": [],
   "source": [
    "cat_means = df.groupby(['cat_var1', 'cat_var2']).mean()['num_var2']\n",
    "cat_means = cat_means.reset_index(name = 'num_var2_avg')\n",
    "cat_means = cat_means.pivot(index = 'cat_var2', columns = 'cat_var1',\n",
    "                            values = 'num_var2_avg')\n",
    "sb.heatmap(cat_means, annot = True, fmt = '.3f',\n",
    "           cbar_kws = {'label' : 'mean(num_var2)'})"
   ]
  },
  {
   "cell_type": "markdown",
   "metadata": {},
   "source": [
    "Note how the \"cbar_kws\" provides an additional argument to the colorbar component of the heat map call."
   ]
  },
  {
   "cell_type": "markdown",
   "metadata": {},
   "source": [
    "![title](img/l5-c06-adaptations2.png)"
   ]
  },
  {
   "cell_type": "markdown",
   "metadata": {},
   "source": [
    "An alternative approach for two categorical variables and one numeric variable is to adapt a clustered bar chart using the barplot function instead of the countplot function:"
   ]
  },
  {
   "cell_type": "code",
   "execution_count": null,
   "metadata": {},
   "outputs": [],
   "source": [
    "ax = sb.barplot(data = df, x = 'cat_var1', y = 'num_var2', hue = 'cat_var2')\n",
    "ax.legend(loc = 8, ncol = 3, framealpha = 1, title = 'cat_var2')"
   ]
  },
  {
   "cell_type": "markdown",
   "metadata": {},
   "source": [
    "![title](img/l5-c06-adaptations3.png)"
   ]
  },
  {
   "cell_type": "markdown",
   "metadata": {},
   "source": [
    "The \"hue\" parameter can also be used in a similar fashion in the boxplot, violinplot, and pointplot functions to add a categorical third variable to those plots in a clustered fashion. As a special note for pointplot, the default rendering aligns all levels of the \"hue\" categorical variable vertically. Use the \"dodge\" parameter to shift the levels in a clustered fashion:"
   ]
  },
  {
   "cell_type": "markdown",
   "metadata": {},
   "source": [
    "ax = sb.pointplot(data = df, x = 'cat_var1', y = 'num_var2', hue = 'cat_var2',\n",
    "                  dodge = 0.3, linestyles = \"\")"
   ]
  },
  {
   "cell_type": "markdown",
   "metadata": {},
   "source": [
    "![title](img/l5-c06-adaptations4.png)"
   ]
  },
  {
   "cell_type": "markdown",
   "metadata": {},
   "source": [
    "As a final example, a line plot can be adapted from previous code showing how to create frequency polygons for levels of a categorical variable. In this case as well, we create a custom function to send to a FacetGrid object's map function that computes the means in each bin, then plots them as lines via errorbar."
   ]
  },
  {
   "cell_type": "code",
   "execution_count": null,
   "metadata": {},
   "outputs": [],
   "source": [
    "def mean_poly(x, y, bins = 10, **kwargs):\n",
    "    \"\"\" Custom adapted line plot code. \"\"\"\n",
    "    # set bin edges if none or int specified\n",
    "    if type(bins) == int:\n",
    "        bins = np.linspace(x.min(), x.max(), bins+1)\n",
    "    bin_centers = (bin_edges[1:] + bin_edges[:-1]) / 2\n",
    "\n",
    "    # compute counts\n",
    "    data_bins = pd.cut(x, bins, right = False,\n",
    "                       include_lowest = True)\n",
    "    means = y.groupby(data_bins).mean()\n",
    "\n",
    "    # create plot\n",
    "    plt.errorbar(x = bin_centers, y = means, **kwargs)\n",
    "\n",
    "bin_edges = np.arange(0.25, df['num_var1'].max()+0.5, 0.5)\n",
    "g = sb.FacetGrid(data = df, hue = 'cat_var2', size = 5)\n",
    "g.map(mean_poly, \"num_var1\", \"num_var2\", bins = bin_edges)\n",
    "g.set_ylabels('mean(num_var2)')\n",
    "g.add_legend()"
   ]
  },
  {
   "cell_type": "markdown",
   "metadata": {},
   "source": [
    "![title](img/l5-c06-adaptations5.png)"
   ]
  }
 ],
 "metadata": {
  "kernelspec": {
   "display_name": "Python 3",
   "language": "python",
   "name": "python3"
  },
  "language_info": {
   "codemirror_mode": {
    "name": "ipython",
    "version": 3
   },
   "file_extension": ".py",
   "mimetype": "text/x-python",
   "name": "python",
   "nbconvert_exporter": "python",
   "pygments_lexer": "ipython3",
   "version": "3.8.5"
  }
 },
 "nbformat": 4,
 "nbformat_minor": 4
}
