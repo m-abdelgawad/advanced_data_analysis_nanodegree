{
 "cells": [
  {
   "cell_type": "markdown",
   "metadata": {},
   "source": [
    "One common plotting technique has not been discussed thus far in the course, and that’s stacking. Stacked bar charts and histograms are not uncommon, but there are often better plot choices available.\n",
    "\n",
    "The most basic stacked chart takes a single bar representing the full count, and divides it into colored segments based on frequencies on a categorical variable. If this sounds familiar, that's because it almost perfectly coincides with the description of a pie chart, except that the shape being divided is different."
   ]
  },
  {
   "cell_type": "code",
   "execution_count": null,
   "metadata": {},
   "outputs": [],
   "source": [
    "# pre-processing: count and sort by the number of instances of each category\n",
    "sorted_counts = df['cat_var'].value_counts()\n",
    "\n",
    "# establish the Figure\n",
    "plt.figure(figsize = [12, 5])\n",
    "\n",
    "# left plot: pie chart\n",
    "plt.subplot(1, 2, 1)\n",
    "plt.pie(sorted_counts, labels = sorted_counts.index, startangle = 90,\n",
    "        counterclock = False);\n",
    "plt.axis('square');\n",
    "\n",
    "# right plot: horizontally stacked bar\n",
    "plt.subplot(1, 2, 2)\n",
    "baseline = 0\n",
    "for i in range(sorted_counts.shape[0]):\n",
    "    plt.barh(y = 1, width = sorted_counts[i], left = baseline)\n",
    "    baseline += sorted_counts[i]\n",
    "\n",
    "plt.legend(sorted_counts.index)  # add a legend for labeling\n",
    "plt.ylim([0,2]) # give some vertical spacing around the bar"
   ]
  },
  {
   "cell_type": "markdown",
   "metadata": {},
   "source": [
    "The stacked bar is built through successive calls of the matplotlib barh function; each time the function is called, the bar that is plotted is assigned a new color. The choice of \"y\" is arbitrary: it'll just center the bar around y = 1, but it doesn't have any inherent meaning. The \"left\" parameter specifies the left edge of each bar added to the stack, which starts at the baseline of 0 and is built up with each stacked bar. Note in this case that the bar is being plotted with absolute counts, rather than proportions. A discussion of absolute vs. relative frequencies will come later down the page!"
   ]
  },
  {
   "cell_type": "markdown",
   "metadata": {},
   "source": [
    "![title](pics/l4-c19-stackedbars1.png)"
   ]
  },
  {
   "cell_type": "markdown",
   "metadata": {},
   "source": [
    "Given this similarity, cautions regarding use of the stacked bar are fairly similar to that of the pie chart:\n",
    "\n",
    "* Make sure that relative frequencies are a meaningful comparison.\n",
    "* Try to limit yourself to a small number of categories, up to about five.\n",
    "* Make sure that categories are arranged in a sensible order, e.g. by frequency for nominal data or by levels for ordinal data."
   ]
  },
  {
   "cell_type": "markdown",
   "metadata": {},
   "source": [
    "Otherwise, the standard bar chart is a reliable option that should be used in most cases. Only use the pie chart or singly divided bar if there's a compelling reason to do so.\n",
    "\n",
    "The debate becomes more interesting when multiple features get involved. When should we feel free to create a stacked bar chart versus using a clustered bar chart? There are two major categories of stacked bar chart that I want to focus on here: plotting by absolute frequency and plotting by relative frequency. We'll start with code for an absolute frequency stacked chart below."
   ]
  },
  {
   "cell_type": "code",
   "execution_count": null,
   "metadata": {},
   "outputs": [],
   "source": [
    "cat1_order = ['East', 'South', 'West', 'North']\n",
    "cat2_order = ['Type X', 'Type Y', 'Type Z', 'Type O']\n",
    "\n",
    "plt.figure(figsize = [12, 5])\n",
    "\n",
    "# left plot: clustered bar chart, absolute counts\n",
    "plt.subplot(1, 2, 1)\n",
    "sb.countplot(data = df, x = 'cat_var1', hue = 'cat_var2',\n",
    "             order = cat1_order, hue_order = cat2_order)\n",
    "plt.legend()\n",
    "\n",
    "# right plot: stacked bar chart, absolute counts\n",
    "plt.subplot(1, 2, 2)\n",
    "\n",
    "baselines = np.zeros(len(cat1_order))\n",
    "# for each second-variable category:\n",
    "for i in range(len(cat2_order)):\n",
    "    # isolate the counts of the first category,\n",
    "    cat2 = cat2_order[i]\n",
    "    inner_counts = df[df['cat_var2'] == cat2]['cat_var1'].value_counts()\n",
    "    # then plot those counts on top of the accumulated baseline\n",
    "    plt.bar(x = np.arange(len(cat1_order)), height = inner_counts[cat1_order],\n",
    "            bottom = baselines)\n",
    "    baselines += inner_counts[cat1_order]\n",
    "\n",
    "plt.xticks(np.arange(len(cat1_order)), cat1_order)\n",
    "plt.legend(cat2_order)"
   ]
  },
  {
   "cell_type": "markdown",
   "metadata": {},
   "source": [
    "The strategy for this plot is very similar to the single stacked bar shown above, except that we're using the standard bar with \"x\" and \"bottom\" parameters, and that baselines is a list of base heights. We want to create all of the bars for a particular secondary category at the same time so that creation of the legend has a 1:1 mapping to bar calls. You might notice below that the order of labels in the legend is the reverse of the order in which the bars are stacked. You'll see code to handle this in the relative frequency plot below!"
   ]
  },
  {
   "cell_type": "markdown",
   "metadata": {},
   "source": [
    "![title](pics/l4-c19-stackedbars2.png)"
   ]
  },
  {
   "cell_type": "markdown",
   "metadata": {},
   "source": [
    "The stacked bar chart plotted by absolute frequency carries one big advantage over the clustered bar chart: for the variable plotted on the x-axis, it's clear which category level has the highest frequency, in this case \"East\". The values of this variable can be interpreted just like the univariate bar chart. The disadvantage of the stacked bar chart comes with interpretation of the second, stacked variable. If you want to compare the relative counts of this second variable across levels of the first, you can really only do that for the category plotted on the baseline, which in this case is the blue one, \"Type X\". For the remaining categories, it's much harder to make the comparison of values – you can't really tell that the counts of \"Type O\" are larger in the \"South\" than the \"North\" from the stacked chart, where it's directly comparable in the clustered bar chart.\n",
    "\n",
    "Now, let's take a look at what happens when we create the stacked bar chart with relative frequencies instead, where each bar is scaled to a total height of 1."
   ]
  },
  {
   "cell_type": "code",
   "execution_count": null,
   "metadata": {},
   "outputs": [],
   "source": [
    "cat1_order = ['East', 'South', 'West', 'North']\n",
    "cat2_order = ['Type X', 'Type Y', 'Type Z', 'Type O']\n",
    "\n",
    "artists = [] # for storing references to plot elements\n",
    "baselines = np.zeros(len(cat1_order))\n",
    "cat1_counts = df['cat_var1'].value_counts()\n",
    "\n",
    "# for each second-variable category:\n",
    "for i in range(len(cat2_order)):\n",
    "    # isolate the counts of the first category,\n",
    "    cat2 = cat2_order[i]\n",
    "    inner_counts = df[df['cat_var2'] == cat2]['cat_var1'].value_counts()\n",
    "    inner_props = inner_counts / cat1_counts\n",
    "    # then plot those counts on top of the accumulated baseline\n",
    "    bars = plt.bar(x = np.arange(len(cat1_order)),\n",
    "                   height = inner_props[cat1_order],\n",
    "                   bottom = baselines)\n",
    "    artists.append(bars)\n",
    "    baselines += inner_props[cat1_order]\n",
    "\n",
    "plt.xticks(np.arange(len(cat1_order)), cat1_order)\n",
    "plt.legend(reversed(artists), reversed(cat2_order), framealpha = 1,\n",
    "           bbox_to_anchor = (1, 0.5), loc = 6);"
   ]
  },
  {
   "cell_type": "markdown",
   "metadata": {},
   "source": [
    "There are two main changes to this code compared to the previous plot. First of all, the cat1_counts variable has been computed to change the absolute frequencies into relative frequencies within each x-axis category. Secondly, some code has been added to reverse the order of bars in the legend. The artists variable has been added to store references to each of the bar groups added from each bar call. Then in the legend function call, we make use of the built-in Python function reversed to reverse the order in which the artists and labels are included in the legend. The additional parameters affect the positioning of the legend: setting an anchor for the legend box on the right side of the plot via \"bbox_to_anchor\", and positioning the anchor to the legend's left with \"loc = 6\"."
   ]
  },
  {
   "cell_type": "markdown",
   "metadata": {},
   "source": [
    "![title](pics/l4-c19-stackedbars3.png)"
   ]
  },
  {
   "cell_type": "markdown",
   "metadata": {},
   "source": [
    "ince the bars are all the same height of 1 with a relative frequency stacked bar chart, we lose the ability to compare the absolute counts on the categorical variable plotted on the x-axis (i.e. we can't tell that \"East\" has the most counts and \"North\" the least amount). In exchange, we can now compare the relative prevalence of the stacked variable on both the first category on the bottom (\"Type X\") as well as the category on the top (\"Type O\"). We can now see that, in terms of relative frequency, \"Type X\" has a fairly consistent presence in \"South\", \"West\", and \"North\", and that \"Type O\" has its highest relative frequency in \"North\". Unfortunately, this still doesn't help us make easy comparisons about the \"Type Y\" and \"Type Z\" categories that are sandwiched in between. This major limitation is a big reason why other plot types like clustered bar or line charts are often preferable to stacking.\n",
    "\n",
    "Further Reading\n",
    "Eager Eyes: Stacked Bars are the Worst"
   ]
  }
 ],
 "metadata": {
  "kernelspec": {
   "display_name": "Python 3",
   "language": "python",
   "name": "python3"
  },
  "language_info": {
   "codemirror_mode": {
    "name": "ipython",
    "version": 3
   },
   "file_extension": ".py",
   "mimetype": "text/x-python",
   "name": "python",
   "nbconvert_exporter": "python",
   "pygments_lexer": "ipython3",
   "version": "3.8.5"
  }
 },
 "nbformat": 4,
 "nbformat_minor": 4
}
