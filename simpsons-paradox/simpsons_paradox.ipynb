{
 "cells": [
  {
   "cell_type": "markdown",
   "metadata": {
    "collapsed": true
   },
   "source": [
    "# Simpson's Paradox\n",
    "Use `admission_data.csv` for this exercise."
   ]
  },
  {
   "cell_type": "code",
   "execution_count": 1,
   "metadata": {},
   "outputs": [
    {
     "name": "stdout",
     "output_type": "stream",
     "text": [
      "   student_id  gender      major  admitted\n",
      "0       35377  female  Chemistry     False\n",
      "1       56105    male    Physics      True\n",
      "2       31441  female  Chemistry     False\n",
      "3       51765    male    Physics      True\n",
      "4       53714  female    Physics      True\n"
     ]
    }
   ],
   "source": [
    "# Load and view first few lines of dataset\n",
    "import pandas as pd\n",
    "\n",
    "df = pd.read_csv(\"admission_data.csv\")\n",
    "\n",
    "print(df.head())"
   ]
  },
  {
   "cell_type": "markdown",
   "metadata": {},
   "source": [
    "### Proportion and admission rate for each gender"
   ]
  },
  {
   "cell_type": "code",
   "execution_count": 2,
   "metadata": {},
   "outputs": [
    {
     "name": "stdout",
     "output_type": "stream",
     "text": [
      "500\n"
     ]
    }
   ],
   "source": [
    "# Count of all admissions (all rows)\n",
    "admission_count = df.shape[0]\n",
    "print(admission_count)"
   ]
  },
  {
   "cell_type": "code",
   "execution_count": 3,
   "metadata": {},
   "outputs": [
    {
     "name": "stdout",
     "output_type": "stream",
     "text": [
      "0.514\n"
     ]
    }
   ],
   "source": [
    "# number of all female students\n",
    "female_count = df.loc[df.gender == 'female'].shape[0]\n",
    "\n",
    "# Proportion of students that are female\n",
    "female_proportion = female_count / admission_count\n",
    "print(female_proportion)"
   ]
  },
  {
   "cell_type": "code",
   "execution_count": 4,
   "metadata": {},
   "outputs": [
    {
     "name": "stdout",
     "output_type": "stream",
     "text": [
      "0.486\n"
     ]
    }
   ],
   "source": [
    "# number of all male students\n",
    "male_count = df.loc[df.gender == 'male'].shape[0]\n",
    "\n",
    "# Proportion of students that are male\n",
    "male_proportion = male_count / admission_count\n",
    "print(male_proportion)"
   ]
  },
  {
   "cell_type": "code",
   "execution_count": 5,
   "metadata": {},
   "outputs": [
    {
     "name": "stdout",
     "output_type": "stream",
     "text": [
      "0.287938\n"
     ]
    }
   ],
   "source": [
    "# total number of admitted females\n",
    "female_admitted = df.loc[(df.gender == 'female') & (df.admitted == True)].shape[0]\n",
    "\n",
    "# Admission rate for females (rate of females that have been admitted)\n",
    "female_admission_rate = female_admitted / female_count\n",
    "female_admission_rate = round(female_admission_rate, 6)\n",
    "print(female_admission_rate)"
   ]
  },
  {
   "cell_type": "code",
   "execution_count": 6,
   "metadata": {},
   "outputs": [
    {
     "name": "stdout",
     "output_type": "stream",
     "text": [
      "0.485597\n"
     ]
    }
   ],
   "source": [
    "# total number of admitted males who are majored in Physics\n",
    "male_admitted = df.loc[(df.gender == 'male') & (df.admitted == True)].shape[0]\n",
    "\n",
    "# Admission rate for males (rate of males that have been admitted)\n",
    "male_admission_rate = male_admitted / male_count\n",
    "male_admission_rate = round(male_admission_rate, 6)\n",
    "print(male_admission_rate)"
   ]
  },
  {
   "cell_type": "markdown",
   "metadata": {},
   "source": [
    "### By only looking at gender and admission rates, who appears to be favored in the admissions process?\n",
    "Males, as males were admitted at a rate of 48.6%, while females were admitted at a rate of 28.8%%"
   ]
  },
  {
   "cell_type": "markdown",
   "metadata": {},
   "source": [
    "### Proportion and admission rate for physics majors of each gender"
   ]
  },
  {
   "cell_type": "code",
   "execution_count": 7,
   "metadata": {},
   "outputs": [
    {
     "name": "stdout",
     "output_type": "stream",
     "text": [
      "0.121\n"
     ]
    }
   ],
   "source": [
    "# total number of females who are majored in Physics\n",
    "female_physics_count = df.loc[(df.major == 'Physics') & (df.gender == 'female')].shape[0]\n",
    "\n",
    "# What proportion of female students are majoring in physics?\n",
    "female_physics_proportion = female_physics_count / female_count\n",
    "female_physics_proportion = round(female_physics_proportion, 3)\n",
    "print(female_physics_proportion)"
   ]
  },
  {
   "cell_type": "code",
   "execution_count": 8,
   "metadata": {},
   "outputs": [
    {
     "name": "stdout",
     "output_type": "stream",
     "text": [
      "0.926\n"
     ]
    }
   ],
   "source": [
    "# total number of males who majored in Physics\n",
    "male_physics_count = df.loc[(df.major == 'Physics') & (df.gender == 'male')].shape[0]\n",
    "\n",
    "# What proportion of male students are majoring in physics?\n",
    "male_physics_proportion = male_physics_count / male_count\n",
    "male_physics_proportion = round(male_physics_proportion, 3)\n",
    "print(male_physics_proportion)"
   ]
  },
  {
   "cell_type": "markdown",
   "metadata": {},
   "source": [
    "### Who tends to have more physics majors than chemistry majors?\n",
    "\n",
    "Correct! 92.6% of males have physics majors!"
   ]
  },
  {
   "cell_type": "code",
   "execution_count": 9,
   "metadata": {},
   "outputs": [
    {
     "name": "stdout",
     "output_type": "stream",
     "text": [
      "0.742\n"
     ]
    }
   ],
   "source": [
    "# total number of females who are majored in Physics and have been admitted\n",
    "female_physics_admitted = df.loc[(df.major == 'Physics') & \n",
    "                                 (df.gender == 'female') & \n",
    "                                 (df.admitted == True)].shape[0]\n",
    "\n",
    "# Admission rate for female physics majors\n",
    "female_physics_admitted_rate = female_physics_admitted / female_physics_count\n",
    "female_physics_admitted_rate = round(female_physics_admitted_rate, 3)\n",
    "print(female_physics_admitted_rate)"
   ]
  },
  {
   "cell_type": "code",
   "execution_count": 10,
   "metadata": {},
   "outputs": [
    {
     "name": "stdout",
     "output_type": "stream",
     "text": [
      "0.516\n"
     ]
    }
   ],
   "source": [
    "# total number of males who are majored in Physics and have been admitted\n",
    "male_physics_admitted = df.loc[(df.major == 'Physics') & \n",
    "                                 (df.gender == 'male') & \n",
    "                                 (df.admitted == True)].shape[0]\n",
    "\n",
    "# Admission rate for male physics majors\n",
    "male_physics_admitted_rate = male_physics_admitted / male_physics_count\n",
    "male_physics_admitted_rate = round(male_physics_admitted_rate, 3)\n",
    "print(male_physics_admitted_rate)"
   ]
  },
  {
   "cell_type": "markdown",
   "metadata": {},
   "source": [
    "### Of the students applying as physics majors, who appears to be favored in the admissions process?\n",
    "\n",
    "Female physics majors were admitted at a rate of 74.2%, while male physics majors were admitted at a rate of 51.6%."
   ]
  },
  {
   "cell_type": "markdown",
   "metadata": {},
   "source": [
    "### Proportion and admission rate for chemistry majors of each gender"
   ]
  },
  {
   "cell_type": "code",
   "execution_count": 11,
   "metadata": {},
   "outputs": [
    {
     "name": "stdout",
     "output_type": "stream",
     "text": [
      "0.879\n"
     ]
    }
   ],
   "source": [
    "# total number of females who are majored in chemistry\n",
    "female_chemistry_count = df.loc[(df.major == 'Chemistry') & (df.gender == 'female')].shape[0]\n",
    "\n",
    "# What proportion of female students are majoring in chemistry?\n",
    "female_chemistry_proportion = female_chemistry_count / female_count\n",
    "female_chemistry_proportion = round(female_chemistry_proportion, 3)\n",
    "print(female_chemistry_proportion)"
   ]
  },
  {
   "cell_type": "code",
   "execution_count": 12,
   "metadata": {},
   "outputs": [
    {
     "name": "stdout",
     "output_type": "stream",
     "text": [
      "0.074\n"
     ]
    }
   ],
   "source": [
    "# total number of males who are majored in chemistry\n",
    "male_chemistry_count = df.loc[(df.major == 'Chemistry') & (df.gender == 'male')].shape[0]\n",
    "\n",
    "# What proportion of male students are majoring in chemistry?\n",
    "male_chemistry_proportion = male_chemistry_count / male_count\n",
    "male_chemistry_proportion = round(male_chemistry_proportion, 3)\n",
    "print(male_chemistry_proportion)"
   ]
  },
  {
   "cell_type": "markdown",
   "metadata": {},
   "source": [
    "### Who tends to have more chemistry majors than physics majors?\n",
    "87.9% of females have chemistry majors!"
   ]
  },
  {
   "cell_type": "code",
   "execution_count": 13,
   "metadata": {},
   "outputs": [
    {
     "name": "stdout",
     "output_type": "stream",
     "text": [
      "0.226\n"
     ]
    }
   ],
   "source": [
    "# total number of females who are majored in chemistry and have been admitted\n",
    "female_chemistry_admitted = df.loc[(df.major == 'Chemistry') & \n",
    "                                 (df.gender == 'female') & \n",
    "                                 (df.admitted == True)].shape[0]\n",
    "\n",
    "# Admission rate for female chemistry majors\n",
    "female_chemistry_admitted_rate = female_chemistry_admitted / female_chemistry_count\n",
    "female_chemistry_admitted_rate = round(female_chemistry_admitted_rate, 3)\n",
    "print(female_chemistry_admitted_rate)"
   ]
  },
  {
   "cell_type": "code",
   "execution_count": 14,
   "metadata": {},
   "outputs": [
    {
     "name": "stdout",
     "output_type": "stream",
     "text": [
      "0.111\n"
     ]
    }
   ],
   "source": [
    "# total number of males who are majored in chemistry and have been admitted\n",
    "male_chemistry_admitted = df.loc[(df.major == 'Chemistry') & \n",
    "                                 (df.gender == 'male') & \n",
    "                                 (df.admitted == True)].shape[0]\n",
    "\n",
    "# Admission rate for male chemistry majors\n",
    "male_chemistry_admitted_rate = male_chemistry_admitted / male_chemistry_count\n",
    "male_chemistry_admitted_rate = round(male_chemistry_admitted_rate, 3)\n",
    "print(male_chemistry_admitted_rate)"
   ]
  },
  {
   "cell_type": "markdown",
   "metadata": {},
   "source": [
    "### Of the students applying as chemistry majors, who appears to be favored in the admissions process?\n",
    "Women were admitted as chemistry majors at a rate of 22.6%, while men were admitted at a rate of 11.1%."
   ]
  },
  {
   "cell_type": "markdown",
   "metadata": {},
   "source": [
    "### Admission rate for each major"
   ]
  },
  {
   "cell_type": "code",
   "execution_count": 15,
   "metadata": {},
   "outputs": [
    {
     "name": "stdout",
     "output_type": "stream",
     "text": [
      "0.543\n"
     ]
    }
   ],
   "source": [
    "# Total male and female students who are majored in Physics\n",
    "physics_count = df.loc[df.major == 'Physics'].shape[0]\n",
    "\n",
    "# Total male and female students who are majored in Physics AND have been admitted\n",
    "physics_admitted = df.loc[(df.major == 'Physics') & (df.admitted == True)].shape[0]\n",
    "\n",
    "# Admission rate for physics majors\n",
    "physics_admission_rate = physics_admitted / physics_count\n",
    "physics_admission_rate = round(physics_admission_rate, 3)\n",
    "print(physics_admission_rate)"
   ]
  },
  {
   "cell_type": "code",
   "execution_count": 16,
   "metadata": {},
   "outputs": [
    {
     "name": "stdout",
     "output_type": "stream",
     "text": [
      "0.217\n"
     ]
    }
   ],
   "source": [
    "# Total male and female students who are majored in chemistry\n",
    "chemistry_count = df.loc[df.major == 'Chemistry'].shape[0]\n",
    "\n",
    "# Total male and female students who are majored in Chemistry AND have been admitted\n",
    "chemistry_admitted = df.loc[(df.major == 'Chemistry') & (df.admitted == True)].shape[0]\n",
    "\n",
    "# Admission rate for chemistry majors\n",
    "chemistry_admission_rate = chemistry_admitted / chemistry_count\n",
    "chemistry_admission_rate = round(chemistry_admission_rate, 3)\n",
    "print(chemistry_admission_rate)"
   ]
  },
  {
   "cell_type": "markdown",
   "metadata": {},
   "source": [
    "### Which major has a lower admission rate?\n",
    "Chemistry has an admission rate of 21.7%, while physics has a rate of 54.3%!"
   ]
  },
  {
   "cell_type": "markdown",
   "metadata": {},
   "source": [
    "## Reflect"
   ]
  },
  {
   "cell_type": "markdown",
   "metadata": {},
   "source": [
    "Many more females applied to chemistry, which had a lower admissions rate.  Therefore, they had an overall lower admission rate.  Though, females had higher admission rates conditionally in both physics and chemistry.  This is known as **Simpson's Paradox**."
   ]
  },
  {
   "cell_type": "markdown",
   "metadata": {},
   "source": [
    "- In general, males were admitted at a rate of 48.6%, while females were admitted at a rate of 28.8%\n",
    "- However, when looking at the Physics major, it appears that female physics majors were admitted at a rate of 74.2%, while male physics majors were admitted at a rate of 51.6%.\n",
    "- Also, when looking at the Chemistry major, Women were admitted as chemistry majors at a rate of 22.6%, while men were admitted at a rate of 11.1%.\n",
    "- TThis is often called the simpson's paradox, where the same data give two opposite conclusions."
   ]
  },
  {
   "cell_type": "code",
   "execution_count": null,
   "metadata": {},
   "outputs": [],
   "source": []
  }
 ],
 "metadata": {
  "kernelspec": {
   "display_name": "Python 3",
   "language": "python",
   "name": "python3"
  },
  "language_info": {
   "codemirror_mode": {
    "name": "ipython",
    "version": 3
   },
   "file_extension": ".py",
   "mimetype": "text/x-python",
   "name": "python",
   "nbconvert_exporter": "python",
   "pygments_lexer": "ipython3",
   "version": "3.8.5"
  }
 },
 "nbformat": 4,
 "nbformat_minor": 2
}
